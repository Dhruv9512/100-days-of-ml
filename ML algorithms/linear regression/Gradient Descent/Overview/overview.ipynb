{
 "cells": [
  {
   "cell_type": "markdown",
   "metadata": {},
   "source": [
    "<h3>Gradient Descent Types</h3>\n",
    "1. Batch Gradient Descent <br>\n",
    "2. Stochastic Gradient Descent <br>\n",
    "3. Mini-Batch Gradient Descent"
   ]
  },
  {
   "cell_type": "markdown",
   "metadata": {},
   "source": [
    "<h3>Formula of Gradient Descent for linear Regression:- </h3>\n",
    "=>Based on cost/loss function -> shigma ( y<sub>i</sub> - y(cap)<sub>i</sub> )<sup>2</sup> <br>\n",
    "=> Finding m formula:- m<sub>old</sub> - n(learing rate)*sloop <br>\n",
    "    sloop = -2 shigma ( y<sub>i</sub> - m*x<sub>i</sub> - b ) * x<sub>i</sub> <br><br>\n",
    "=> Finding b formula:- b<sub>old</sub> - n(learing rate)*sloop <br>\n",
    "    sloop = -2 shigma ( y<sub>i</sub> - m*x<sub>i</sub> - b )\n",
    "\n"
   ]
  },
  {
   "cell_type": "markdown",
   "metadata": {},
   "source": []
  }
 ],
 "metadata": {
  "language_info": {
   "name": "python"
  }
 },
 "nbformat": 4,
 "nbformat_minor": 2
}
