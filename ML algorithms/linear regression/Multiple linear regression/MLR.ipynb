{
 "cells": [
  {
   "cell_type": "markdown",
   "metadata": {},
   "source": [
    "<h3>Multiple linear regression</h3>\n",
    "=> In simple linear regresion ther if y= mx + b But in multiple linear regression the formula is:- b<sub>0</sub> + b<sub>1</sub>x<sub>1</sub> + b<sub>2</sub>x<sub>2</sub> + ....... b<sub>m</sub>x<sub>n</sub><br>\n",
    "Here , x is number of input rows , b is m ,   b<sub>0</sub>  is b(offset)<br>\n",
    "=> Formula to find b:- b= ( x<sup>T</sup>.x )<sup>-1</sup> . ( x<sup>T</sup>.y)<br>\n",
    "Here, x is x_tain(input column) and y is x_test( output column)"
   ]
  }
 ],
 "metadata": {
  "language_info": {
   "name": "python"
  }
 },
 "nbformat": 4,
 "nbformat_minor": 2
}
