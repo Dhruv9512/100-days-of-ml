{
 "cells": [
  {
   "cell_type": "code",
   "execution_count": 4,
   "id": "1fcafe26-03da-471c-9b65-54a3f131a43e",
   "metadata": {},
   "outputs": [],
   "source": [
    "import pandas as pd\n",
    "import matplotlib.pyplot as ptl\n",
    "import seaborn as sns\n",
    "from sklearn.pipeline import Pipeline \n",
    "from sklearn.neighbors import KNeighborsClassifier\n",
    "from sklearn.compose import ColumnTransformer\n",
    "from sklearn.model_selection import train_test_split\n",
    "from sklearn.preprocessing import StandardScaler,OneHotEncoder\n",
    "from sklearn.metrics import accuracy_score\n"
   ]
  },
  {
   "cell_type": "markdown",
   "id": "35301761-89db-4a00-aac2-e696f25d2999",
   "metadata": {},
   "source": [
    "<h3>Read csv file</h3>"
   ]
  },
  {
   "cell_type": "code",
   "execution_count": 5,
   "id": "fed6c5fb-a6f4-47a6-9d8d-b7de37ea49ac",
   "metadata": {},
   "outputs": [],
   "source": [
    "df = pd.read_csv(\"Social_Network_Ads.csv\",usecols=[\"Gender\",\"Age\",\"EstimatedSalary\",\"Purchased\"])\n",
    "df.drop_duplicates(inplace=True)\n",
    "\n",
    "x_train,x_test,y_train,y_test = train_test_split(df.drop(\"Purchased\",axis=1),df[\"Purchased\"],test_size=0.2,random_state=0)\n",
    "\n",
    "numerical_cols = [v for v in x_train if x_train[v].dtype in [\"int64\",\"float64\"]]\n",
    "categrical_cols = [v for v in x_train if x_train[v].nunique()<10 and x_train[v].dtype in [\"object\"]]"
   ]
  },
  {
   "cell_type": "markdown",
   "id": "ddee2d19-b86f-42bf-9b87-4f24161b5eb1",
   "metadata": {},
   "source": [
    "<h3>Make pipline and columnTransformation</h3>"
   ]
  },
  {
   "cell_type": "code",
   "execution_count": 33,
   "id": "6cf92011-f357-4466-a13f-70609f98c290",
   "metadata": {},
   "outputs": [],
   "source": [
    "# numerical_tranform = StandardScaler()\n",
    "# categrical_transform = OneHotEncoder(handle_unknown='ignore')\n",
    "# preprocessor = ColumnTransformer(\n",
    "#     transformers=[\n",
    "#         ('scaler', numerical_tranform , numerical_cols),\n",
    "#         ('onehot', categrical_transform , categrical_cols)\n",
    "#     ]\n",
    "# )\n",
    "tr1 = ColumnTransformer(\n",
    "    transformers=[\n",
    "        ('scaler', StandardScaler() , [1,2]),   \n",
    "    ], remainder='passthrough')\n",
    "\n",
    "tr2 = ColumnTransformer(\n",
    "    transformers=[\n",
    "        ('ohe', OneHotEncoder(handle_unknown='ignore') , [2]),\n",
    "    ], remainder='passthrough')\n"
   ]
  },
  {
   "cell_type": "markdown",
   "id": "9ba5cec4-5e80-4ae8-b217-de38964f9426",
   "metadata": {},
   "source": [
    "<h3>Making model pipeline</h3>"
   ]
  },
  {
   "cell_type": "code",
   "execution_count": 34,
   "id": "402425d5-a9fc-4e72-90ce-7ac6814b8bb7",
   "metadata": {},
   "outputs": [],
   "source": [
    "model = KNeighborsClassifier()\n",
    "pipeline_model=Pipeline(\n",
    "    steps=[\n",
    "        ('tr1', tr1),\n",
    "        ('tr2', tr2),\n",
    "        ('Model',model)\n",
    "    ]\n",
    ")"
   ]
  },
  {
   "cell_type": "markdown",
   "id": "66718244-667b-48f2-be67-ae6a23684bc7",
   "metadata": {},
   "source": [
    "<h3>Train and test</h3>"
   ]
  },
  {
   "cell_type": "code",
   "execution_count": 35,
   "id": "15ac34fa-11fb-42f8-afe5-e5095d1faf5b",
   "metadata": {},
   "outputs": [
    {
     "data": {
      "text/plain": [
       "0.8947368421052632"
      ]
     },
     "execution_count": 35,
     "metadata": {},
     "output_type": "execute_result"
    }
   ],
   "source": [
    "pipeline_model.fit(x_train,y_train)\n",
    "\n",
    "ans = pipeline_model.predict(x_test)\n",
    "\n",
    "accuracy_score(ans,y_test)"
   ]
  },
  {
   "cell_type": "code",
   "execution_count": null,
   "id": "a728fa6e-76bf-46b3-acd4-6da90b0c0c93",
   "metadata": {},
   "outputs": [],
   "source": []
  }
 ],
 "metadata": {
  "kernelspec": {
   "display_name": "Python 3 (ipykernel)",
   "language": "python",
   "name": "python3"
  },
  "language_info": {
   "codemirror_mode": {
    "name": "ipython",
    "version": 3
   },
   "file_extension": ".py",
   "mimetype": "text/x-python",
   "name": "python",
   "nbconvert_exporter": "python",
   "pygments_lexer": "ipython3",
   "version": "3.12.4"
  }
 },
 "nbformat": 4,
 "nbformat_minor": 5
}
