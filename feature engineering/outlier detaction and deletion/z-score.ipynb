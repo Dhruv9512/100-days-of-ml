{
 "cells": [
  {
   "cell_type": "markdown",
   "id": "701ca837-a397-4686-a4a6-b3701e22b6ef",
   "metadata": {},
   "source": [
    "** Use case:- When the column is ball shape or has a normal distribution***\n",
    "<br>\n",
    "<h3>Formula to find upper/max and lower/min boundries</h3>\n",
    "-> upper:-  mean + 3*SD(stander deviation)\n",
    "->lower:- mean - 3*SD"
   ]
  },
  {
   "cell_type": "code",
   "execution_count": 7,
   "id": "f2141625-a597-4348-a470-c451c8034a1d",
   "metadata": {},
   "outputs": [],
   "source": [
    "import pandas as pd\n",
    "import numpy as np\n",
    "import matplotlib.pyplot as plt\n",
    "import seaborn as sns"
   ]
  },
  {
   "cell_type": "code",
   "execution_count": null,
   "id": "e03a8ed2-9998-4a56-b78e-1085cd0a760f",
   "metadata": {},
   "outputs": [],
   "source": [
    "df "
   ]
  }
 ],
 "metadata": {
  "kernelspec": {
   "display_name": "Python 3 (ipykernel)",
   "language": "python",
   "name": "python3"
  },
  "language_info": {
   "codemirror_mode": {
    "name": "ipython",
    "version": 3
   },
   "file_extension": ".py",
   "mimetype": "text/x-python",
   "name": "python",
   "nbconvert_exporter": "python",
   "pygments_lexer": "ipython3",
   "version": "3.12.4"
  }
 },
 "nbformat": 4,
 "nbformat_minor": 5
}
