{
 "cells": [
  {
   "cell_type": "markdown",
   "metadata": {},
   "source": [
    "<h3>MAE (mean absolute\"| |\" erroe)</h3>\n",
    "=> It is not differanciable at 0<br>\n",
    "=> It handle the outlier properly<br>\n",
    "=> Not so much good\n",
    "<br>\n",
    "=> Try to decrease the error <br>\n",
    "=> Target column == error(MAE) both unit are same\n",
    "<br>\n",
    "=> It tells how much the input columns explain the variance of target column <br>\n",
    "=> Formula:- shigma | y<sub>i</sub> - y(cap)<sub>i</sub> |  / n "
   ]
  },
  {
   "cell_type": "markdown",
   "metadata": {},
   "source": [
    "<h3>MSC (mean square error) </h3>\n",
    "=> It is differanciable at 0 <br>\n",
    "=> It does not handle the outlier properly <br>\n",
    "=> Try to decrease the error <br>\n",
    "=> Target column != Error(MSE) both unit are not same <br>\n",
    "=> Formula:- shigma ( y<sub>i</sub> - y(cap)<sub>i</sub> )<sup>2</sup> / n"
   ]
  },
  {
   "cell_type": "markdown",
   "metadata": {},
   "source": [
    "<h3>RMSE (root mean square error)</h3>\n",
    "=> It is differanciable at 0 <br>\n",
    "=> It does not handle the outlier properly <br>\n",
    "=> Try to decrease the error <br>\n",
    "=> Target column == Error(RMSE) both unit are same <br>\n",
    "=> Formula:- np.SQRT(shigma ( y<sub>i</sub> - y(cap)<sub>i</sub> )<sup>2</sup> / n )"
   ]
  },
  {
   "cell_type": "markdown",
   "metadata": {},
   "source": [
    "<h3>r2_score</h3>\n",
    "=> It's formula picture is given in this directory.<br>\n",
    "=> In short , It give the score if the prediction output line is near to average output line\n",
    "=> Not good if the unnecessary column is add at that time score increases or remain same insted to decrease"
   ]
  },
  {
   "cell_type": "markdown",
   "metadata": {},
   "source": [
    "<h3>Adjusted r2_score</h3>\n",
    "=> It's formula picture is given in this directory.<br>\n",
    "=> In short , It solve the r2_score problem and if the unnecessary column is add at that time ,the score will decreases.<br>\n",
    "=> Here, n-> number of rows , k-> Input rows\n"
   ]
  }
 ],
 "metadata": {
  "language_info": {
   "name": "python"
  }
 },
 "nbformat": 4,
 "nbformat_minor": 2
}
