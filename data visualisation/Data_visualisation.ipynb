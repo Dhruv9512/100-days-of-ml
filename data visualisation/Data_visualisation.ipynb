{
 "cells": [
  {
   "cell_type": "code",
   "execution_count": 69,
   "id": "e2f4fc60-6ef1-4990-b125-6b2460a2ef7a",
   "metadata": {},
   "outputs": [],
   "source": [
    "import seaborn as sns\n",
    "df = sns.load_dataset('tips')\n",
    "def change(name):\n",
    "    if name==\"Male\":\n",
    "        return 1;\n",
    "    else:\n",
    "        return 0;\n",
    "df[\"sex\"]=df[\"sex\"].map(change)\n",
    "df[\"sex\"].value_counts().plot(kind=\"pie\",autopct='%.2f')\n"
   ]
  },
  {
   "cell_type": "code",
   "execution_count": null,
   "id": "c57a6285-cfc5-4167-ac5d-6c8d7e6917e8",
   "metadata": {},
   "outputs": [],
   "source": []
  }
 ],
 "metadata": {
  "kernelspec": {
   "display_name": "Python 3 (ipykernel)",
   "language": "python",
   "name": "python3"
  },
  "language_info": {
   "codemirror_mode": {
    "name": "ipython",
    "version": 3
   },
   "file_extension": ".py",
   "mimetype": "text/x-python",
   "name": "python",
   "nbconvert_exporter": "python",
   "pygments_lexer": "ipython3",
   "version": "3.12.1"
  }
 },
 "nbformat": 4,
 "nbformat_minor": 5
}
